{
 "cells": [
  {
   "cell_type": "raw",
   "id": "1cd7b0d0-ed17-4e98-ae02-17f78e5d04e4",
   "metadata": {},
   "source": [
    "# ASSIGNMENT CONFIG\n",
    "solutions_pdf: true\n",
    "export_cell:\n",
    "    instructions: \"These are some submission instructions.\"\n",
    "generate: \n",
    "    pdf: true\n",
    "    filtering: true\n",
    "    pagebreaks: true\n",
    "    zips: false"
   ]
  },
  {
   "cell_type": "code",
   "execution_count": 2,
   "id": "8d28038c-f8e7-4374-8417-fec26e8d38b8",
   "metadata": {},
   "outputs": [],
   "source": [
    "import otter\n",
    "grader = otter.Notebook()"
   ]
  },
  {
   "cell_type": "raw",
   "id": "b5a993ce-7112-4664-8ac6-ffad2829cfff",
   "metadata": {},
   "source": [
    "# BEGIN QUESTION\n",
    "name: q1\n",
    "points: 10\n"
   ]
  },
  {
   "cell_type": "markdown",
   "id": "ad30c692-bcb6-49c7-96d8-0569dcbef8c1",
   "metadata": {},
   "source": [
    "### assign 42 to the variable: the_meaning_of_life"
   ]
  },
  {
   "cell_type": "raw",
   "id": "ac51209d-6c4f-4001-a05a-f405b5e94e88",
   "metadata": {},
   "source": [
    "# BEGIN SOLUTION"
   ]
  },
  {
   "cell_type": "code",
   "execution_count": 4,
   "id": "cf6b7c34-e7d3-48f1-ae65-9f5fb9b87e84",
   "metadata": {},
   "outputs": [
    {
     "data": {
      "text/plain": [
       "0"
      ]
     },
     "execution_count": 4,
     "metadata": {},
     "output_type": "execute_result"
    }
   ],
   "source": [
    "the_meaning_of_life = 0\n",
    "# Assign the new value here...\n"
   ]
  },
  {
   "cell_type": "raw",
   "id": "e199049a-fe86-44d6-a9f6-a11f3577ef1c",
   "metadata": {},
   "source": [
    "# END SOLUTION"
   ]
  },
  {
   "cell_type": "raw",
   "id": "569a6184-50d4-44b8-ad0c-f80725b59b5d",
   "metadata": {},
   "source": [
    "# BEGIN TESTS"
   ]
  },
  {
   "cell_type": "code",
   "execution_count": 5,
   "id": "faa5bff4-eb53-4b05-98c4-35e4e86a153c",
   "metadata": {},
   "outputs": [
    {
     "data": {
      "text/plain": [
       "False"
      ]
     },
     "execution_count": 5,
     "metadata": {},
     "output_type": "execute_result"
    }
   ],
   "source": [
    "the_meaning_of_life == 42"
   ]
  },
  {
   "cell_type": "raw",
   "id": "2ae3bbe8-f744-4168-814d-bca13f1c2006",
   "metadata": {},
   "source": [
    "# END TESTS"
   ]
  },
  {
   "cell_type": "raw",
   "id": "f1c1c695-8e88-4df4-85cc-bfd04b8eef06",
   "metadata": {},
   "source": [
    "# END QUESTION"
   ]
  },
  {
   "cell_type": "code",
   "execution_count": null,
   "id": "4ee1e626-aae0-41a0-ae1f-9d9a4a6e665c",
   "metadata": {},
   "outputs": [],
   "source": []
  }
 ],
 "metadata": {
  "kernelspec": {
   "display_name": "Python 3 (ipykernel)",
   "language": "python",
   "name": "python3"
  },
  "language_info": {
   "codemirror_mode": {
    "name": "ipython",
    "version": 3
   },
   "file_extension": ".py",
   "mimetype": "text/x-python",
   "name": "python",
   "nbconvert_exporter": "python",
   "pygments_lexer": "ipython3",
   "version": "3.11.8"
  }
 },
 "nbformat": 4,
 "nbformat_minor": 5
}
